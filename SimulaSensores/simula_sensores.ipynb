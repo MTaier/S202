{
 "cells": [
  {
   "cell_type": "code",
   "execution_count": 34,
   "metadata": {},
   "outputs": [],
   "source": [
    "from pymongo import MongoClient\n",
    "import threading\n",
    "import time\n",
    "import random"
   ]
  },
  {
   "cell_type": "code",
   "execution_count": 35,
   "metadata": {},
   "outputs": [],
   "source": [
    "client = MongoClient(\"mongodb://localhost:27017\")\n",
    "db = client['bancoiot']\n",
    "sensores = db.sensores"
   ]
  },
  {
   "cell_type": "code",
   "execution_count": 36,
   "metadata": {},
   "outputs": [
    {
     "data": {
      "text/plain": [
       "DeleteResult({'n': 3, 'ok': 1.0}, acknowledged=True)"
      ]
     },
     "execution_count": 36,
     "metadata": {},
     "output_type": "execute_result"
    }
   ],
   "source": [
    "# Limpar a coleção antes de iniciar\n",
    "sensores.delete_many({})"
   ]
  },
  {
   "cell_type": "code",
   "execution_count": 37,
   "metadata": {},
   "outputs": [],
   "source": [
    "sensor_1 = {\n",
    "    'nomeSensor': 'sensor 1',\n",
    "    'valorSensor': None,\n",
    "    'unidadeMedida': 'ºC',\n",
    "    'sensorAlarmado': False\n",
    "}\n",
    "\n",
    "sensor_2 = {\n",
    "    'nomeSensor': 'sensor 2',\n",
    "    'valorSensor': None,\n",
    "    'unidadeMedida': 'ºC',\n",
    "    'sensorAlarmado': False\n",
    "}\n",
    "\n",
    "sensor_3 = {\n",
    "    'nomeSensor': 'sensor 3',\n",
    "    'valorSensor': None,\n",
    "    'unidadeMedida': 'ºC',\n",
    "    'sensorAlarmado': False\n",
    "}\n",
    "\n",
    "c = sensores.insert_many([sensor_1, sensor_2, sensor_3])"
   ]
  },
  {
   "cell_type": "code",
   "execution_count": 38,
   "metadata": {},
   "outputs": [
    {
     "name": "stdout",
     "output_type": "stream",
     "text": [
      "InsertManyResult([ObjectId('66d4f1e2a60c2da26cd597a9'), ObjectId('66d4f1e2a60c2da26cd597aa'), ObjectId('66d4f1e2a60c2da26cd597ab')], acknowledged=True)\n"
     ]
    }
   ],
   "source": [
    "print(c)"
   ]
  },
  {
   "cell_type": "code",
   "execution_count": 39,
   "metadata": {},
   "outputs": [],
   "source": [
    "def simulatemperatura(sensor, intervalo): \n",
    "    while True:\n",
    "        temp = random.randint(30, 40)\n",
    "        print(f\"{sensor} marcando {temp} graus\")\n",
    "        time.sleep(intervalo)\n",
    "\n",
    "        result = sensores.update_one(\n",
    "            {'nomeSensor': sensor},\n",
    "            {'$set': {\n",
    "                'valorSensor': temp,\n",
    "                'sensorAlarmado': temp >= 38\n",
    "            }}\n",
    "        )\n",
    "\n",
    "        if temp >= 38:\n",
    "            print(f\"Atenção! Temperatura muito alta! Verificar {sensor}\")\n",
    "            break"
   ]
  },
  {
   "cell_type": "code",
   "execution_count": 40,
   "metadata": {},
   "outputs": [
    {
     "name": "stdout",
     "output_type": "stream",
     "text": [
      "sensor 1 marcando 33 graus\n",
      "sensor 2 marcando 40 graus\n",
      "sensor 3 marcando 33 graus\n"
     ]
    },
    {
     "name": "stdout",
     "output_type": "stream",
     "text": [
      "sensor 1 marcando 39 graus\n",
      "Atenção! Temperatura muito alta! Verificar sensor 2\n",
      "sensor 3 marcando 32 graus\n",
      "Atenção! Temperatura muito alta! Verificar sensor 1\n",
      "sensor 3 marcando 35 graus\n",
      "sensor 3 marcando 39 graus\n",
      "Atenção! Temperatura muito alta! Verificar sensor 3\n"
     ]
    }
   ],
   "source": [
    "threads = []\n",
    "for sensor in ['sensor 1', 'sensor 2', 'sensor 3']:\n",
    "    thread = threading.Thread(target=simulatemperatura, args=(sensor, 2))\n",
    "    threads.append(thread)\n",
    "    thread.start()"
   ]
  }
 ],
 "metadata": {
  "kernelspec": {
   "display_name": "base",
   "language": "python",
   "name": "python3"
  },
  "language_info": {
   "codemirror_mode": {
    "name": "ipython",
    "version": 3
   },
   "file_extension": ".py",
   "mimetype": "text/x-python",
   "name": "python",
   "nbconvert_exporter": "python",
   "pygments_lexer": "ipython3",
   "version": "3.11.9"
  }
 },
 "nbformat": 4,
 "nbformat_minor": 2
}
